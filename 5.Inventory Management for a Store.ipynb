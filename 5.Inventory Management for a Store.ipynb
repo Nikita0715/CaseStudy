{
 "cells": [
  {
   "cell_type": "markdown",
   "id": "acbbf89f",
   "metadata": {},
   "source": [
    "# Case Study 5: Inventory Management for a Store\n",
    "# Problem Statement:\n",
    "# You are tasked with managing the inventory of a retail store. Perform the following tasks:\n",
    "\n",
    "# Create a list of available products with their names, prices, and quantities.\n",
    "# Implement functions for adding new products, updating quantities, and removing products from the inventory.\n",
    "# Calculate the total value of the current inventory.\n",
    "# Generate a report of low-stock items that need to be replenished.\n",
    "# Create a function to calculate the total revenue based on sales."
   ]
  },
  {
   "cell_type": "code",
   "execution_count": 152,
   "id": "e56554d6",
   "metadata": {},
   "outputs": [],
   "source": [
    "inventory = [\n",
    "    {\"name\": \"T-shirt\", \"price\": 1000, \"quantity\": 8},\n",
    "    {\"name\": \"Jeans\", \"price\": 6000, \"quantity\": 7},\n",
    "    {\"name\": \"Sneakers\", \"price\": 12000, \"quantity\": 10},\n",
    "    {\"name\": \"Backpack\", \"price\": 2000, \"quantity\": 2},\n",
    "    {\"name\": \"Sunglasses\", \"price\": 1500, \"quantity\": 4}\n",
    "]"
   ]
  },
  {
   "cell_type": "code",
   "execution_count": 153,
   "id": "84c41232",
   "metadata": {},
   "outputs": [],
   "source": [
    "def add_product(name, price, quantity):\n",
    "    inventory.append({\"name\": name, \"price\": price, \"quantity\": quantity})"
   ]
  },
  {
   "cell_type": "code",
   "execution_count": 154,
   "id": "65002e13",
   "metadata": {},
   "outputs": [],
   "source": [
    "def update_quantity(name, new_quantity):\n",
    "    for item in inventory:\n",
    "        if item[\"name\"] == name:\n",
    "            item[\"quantity\"] = new_quantity\n",
    "            break"
   ]
  },
  {
   "cell_type": "code",
   "execution_count": 155,
   "id": "30acb4e7",
   "metadata": {},
   "outputs": [],
   "source": [
    "def remove_product(name):\n",
    "    for item in inventory:\n",
    "        if item[\"name\"] == name:\n",
    "            inventory.remove(item)\n",
    "            break\n"
   ]
  },
  {
   "cell_type": "code",
   "execution_count": 156,
   "id": "171391b2",
   "metadata": {},
   "outputs": [],
   "source": [
    "def calculate_inventory_value():\n",
    "    total_value = 0\n",
    "    for item in inventory:\n",
    "        total_value += item[\"price\"] * item[\"quantity\"]\n",
    "       \n",
    "    return total_value"
   ]
  },
  {
   "cell_type": "code",
   "execution_count": 157,
   "id": "1ba696ad",
   "metadata": {},
   "outputs": [],
   "source": [
    "def generate_low_stock_report():\n",
    "    low_stock_items = []\n",
    "    for item in inventory:\n",
    "        if item[\"quantity\"] < 5:\n",
    "            low_stock_items.append(item)\n",
    "    return low_stock_items"
   ]
  },
  {
   "cell_type": "code",
   "execution_count": 158,
   "id": "fca6f965",
   "metadata": {},
   "outputs": [],
   "source": [
    "def calculate_total_revenue(sales):\n",
    "    total_revenue = 0\n",
    "    for sale in sales:\n",
    "        total_revenue += sale[\"price\"] * sale[\"quantity\"]\n",
    "    return total_revenue"
   ]
  },
  {
   "cell_type": "code",
   "execution_count": 159,
   "id": "e0959e93",
   "metadata": {},
   "outputs": [
    {
     "name": "stdout",
     "output_type": "stream",
     "text": [
      "Total inventory value: 203200\n",
      "Low-stock items: [{'name': 'Sunglasses', 'price': 1500, 'quantity': 4}, {'name': 'Hat', 'price': 800, 'quantity': 4}]\n",
      "Total revenue from sales: 28000\n"
     ]
    }
   ],
   "source": [
    "add_product(\"Hat\", 800, 4)\n",
    "\n",
    "update_quantity(\"Sneakers\", 12)\n",
    "\n",
    "remove_product(\"Backpack\")\n",
    "\n",
    "\n",
    "total_value = calculate_inventory_value()\n",
    "print(\"Total inventory value:\", total_value)\n",
    "\n",
    "\n",
    "low_stock_report = generate_low_stock_report()\n",
    "print(\"Low-stock items:\", low_stock_report)\n",
    "\n",
    "sales = [\n",
    "    {\"name\": \"T-shirt\", \"price\": 1000, \"quantity\": 1},\n",
    "    {\"name\": \"Sneakers\", \"price\": 12000, \"quantity\": 2},\n",
    "    {\"name\": \"Sunglasses\", \"price\": 1500, \"quantity\": 2}\n",
    "]\n",
    "\n",
    "total_revenue = calculate_total_revenue(sales)\n",
    "print(\"Total revenue from sales:\", total_revenue)\n"
   ]
  },
  {
   "cell_type": "code",
   "execution_count": 161,
   "id": "0fd7bca4",
   "metadata": {},
   "outputs": [
    {
     "data": {
      "text/plain": [
       "[{'name': 'T-shirt', 'price': 1000, 'quantity': 8},\n",
       " {'name': 'Jeans', 'price': 6000, 'quantity': 7},\n",
       " {'name': 'Sneakers', 'price': 12000, 'quantity': 12},\n",
       " {'name': 'Sunglasses', 'price': 1500, 'quantity': 4},\n",
       " {'name': 'Hat', 'price': 800, 'quantity': 4}]"
      ]
     },
     "execution_count": 161,
     "metadata": {},
     "output_type": "execute_result"
    }
   ],
   "source": [
    "inventory"
   ]
  },
  {
   "cell_type": "code",
   "execution_count": null,
   "id": "e214323e",
   "metadata": {},
   "outputs": [],
   "source": []
  },
  {
   "cell_type": "code",
   "execution_count": null,
   "id": "0b101160",
   "metadata": {},
   "outputs": [],
   "source": []
  }
 ],
 "metadata": {
  "kernelspec": {
   "display_name": "Python 3 (ipykernel)",
   "language": "python",
   "name": "python3"
  },
  "language_info": {
   "codemirror_mode": {
    "name": "ipython",
    "version": 3
   },
   "file_extension": ".py",
   "mimetype": "text/x-python",
   "name": "python",
   "nbconvert_exporter": "python",
   "pygments_lexer": "ipython3",
   "version": "3.11.5"
  }
 },
 "nbformat": 4,
 "nbformat_minor": 5
}
